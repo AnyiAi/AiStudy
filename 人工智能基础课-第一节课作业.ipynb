{
 "cells": [
  {
   "cell_type": "markdown",
   "metadata": {},
   "source": [
    "# 一、作业一\n",
    "## 1、有监督学习和无监督学习的区别：\n",
    "\n",
    "有监督学习是给定数据和标签，如：分类、回归\n",
    "无监督学习是之给定数据，没有标注标签，如：聚类、生成\n",
    "\n",
    "## 2、传统机器学习模型：\n",
    "\n",
    "逻辑回归\n",
    "隐马尔科夫方法\n",
    "支持向量机方法\n",
    "K 近邻方法\n",
    "三层人工神经网络方法\n",
    "Adaboost算法\n",
    "贝叶斯方法\n",
    "决策树方法\n",
    "\n",
    "## 3、为什么PR曲线能够现在正负样本分布极其不均匀的情况下很好的反映出模型真正的分类效果\n",
    "PR曲线横轴为召回率，纵轴为精确率，精确率受FP影响，FP越大时，精确率降低，从而影响PR曲线"
   ]
  },
  {
   "cell_type": "markdown",
   "metadata": {},
   "source": [
    "# 二、作业二"
   ]
  },
  {
   "cell_type": "code",
   "execution_count": 41,
   "metadata": {},
   "outputs": [
    {
     "name": "stdout",
     "output_type": "stream",
     "text": [
      "1\n",
      "2\n",
      "2\n"
     ]
    }
   ],
   "source": [
    "import matplotlib.pyplot as plt\n",
    "import math\n",
    "\n",
    "point = [(1,1),(0.4,5.2),(-2.8,-1.1),(3.2,1.4),(-1.3,3.2),(-3,3.1)]\n",
    "label = [2,1,2,1,1,2]\n",
    "new_point = [(-2.6,6.6),(1.4,1.6),(-2.5,1.2)]\n",
    "distance_list = []\n",
    "for e in range(len(new_point)):\n",
    "    for i in range(len(point)):\n",
    "        distance = math.sqrt((point[i][0]-new_point[e][0])**2 + (point[i][1]-new_point[e][1])**2)\n",
    "        distance_list.append((distance, label[i]))\n",
    "        distance_list.sort(key = lambda x:x[0])\n",
    "    print(distance_list[0][1])\n",
    "    "
   ]
  },
  {
   "cell_type": "code",
   "execution_count": null,
   "metadata": {},
   "outputs": [],
   "source": []
  }
 ],
 "metadata": {
  "kernelspec": {
   "display_name": "Python 3",
   "language": "python",
   "name": "python3"
  },
  "language_info": {
   "codemirror_mode": {
    "name": "ipython",
    "version": 3
   },
   "file_extension": ".py",
   "mimetype": "text/x-python",
   "name": "python",
   "nbconvert_exporter": "python",
   "pygments_lexer": "ipython3",
   "version": "3.7.1"
  }
 },
 "nbformat": 4,
 "nbformat_minor": 2
}
